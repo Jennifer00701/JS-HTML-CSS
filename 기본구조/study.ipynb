{
 "cells": [
  {
   "cell_type": "markdown",
   "metadata": {},
   "source": [
    "# 파이썬 2.7 버전과 파이썬 3에서 range 차이\n",
    "\n",
    "파이썬 2.7에서는 range를 사용하면 실제로 연속된 숫자가 들어있는 리스트를 만들어내지만 파이썬 3에서는 range 객체(반복 가능한 객체)를 만들어냅니다.\n",
    "\n",
    "# Java 깊은 복사(Deep Copy)와 얕은 복사(Shallow Copy)\n",
    "\n",
    "깊은 복사(Deep Copy)는 '실제 값'을 새로운 메모리 공간에 복사하는 것을 의미하며,\n",
    "\n",
    "얕은 복사(Shallow Copy)는 '주소 값'을 복사한다는 의미입니다.\n",
    "\n",
    "# 메서드 \n",
    "\n",
    "메서드는 클래스의 행위를 표현하는 것으로 클래스 내의 함수로 볼 수 있다. 파이썬에서 메서드는 크게 인스턴스 메서드,클래스 메서드,정적 메서드가 있다. 가장 흔히 쓰이는 인스턴스 메서드는 인스턴스 변수에 엑세스할 수 있도록 메서드의 첫번째 파라미터에 항상 객체 자신을 의미하는 \"self\"라는 파라미터를 갖는다.아래 예제에서 calcArea()가 인스턴스 메서드에 해당된다. 인스턴스 메서드는 여러 파라미터를 가질 수 있지만 첫번째 파라미터는 항상 self를 갖는다.\n",
    "\n",
    "# 메서드 오버라이딩 \n",
    "\n",
    "메소드 오버라이딩(method overriding)은 객체 지향 프로그래밍에서 서브클래스 또는 자식 클래스가 자신의 슈퍼클래스들 또는 부모 클래스들 중 하나에 의해 이미 제공된 메소드를 특정한 형태로 구현하는 것을 제공하는 언어의 특징이다.\n",
    "\n",
    "https://ko.wikipedia.org/wiki/메소드_오버라이딩"
   ]
  },
  {
   "cell_type": "code",
   "execution_count": null,
   "metadata": {},
   "outputs": [],
   "source": [
    "print(\"ff\")"
   ]
  }
 ],
 "metadata": {
  "kernelspec": {
   "display_name": "Python 3",
   "language": "python",
   "name": "python3"
  },
  "language_info": {
   "name": "python",
   "version": "3.11.7"
  }
 },
 "nbformat": 4,
 "nbformat_minor": 2
}
