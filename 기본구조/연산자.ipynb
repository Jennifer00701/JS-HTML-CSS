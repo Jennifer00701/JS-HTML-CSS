{
 "cells": [
  {
   "cell_type": "code",
   "execution_count": null,
   "metadata": {},
   "outputs": [],
   "source": [
    "나눗셈\n",
    "\n",
    "9/2 = 4.5 : 실수 나눗셈 수행 \n",
    "9//2 = 4 : 정수 나눗셈 수행 4.5 소숫점 버리고 4 가 정답 (나눗셈 결과를 가장 가까운 작은 정수로 반올림)\n",
    "9%2 = 1 : 나머지 연산 수행 "
   ]
  }
 ],
 "metadata": {
  "language_info": {
   "name": "python"
  }
 },
 "nbformat": 4,
 "nbformat_minor": 2
}
