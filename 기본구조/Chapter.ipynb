{
 "cells": [
  {
   "cell_type": "markdown",
   "metadata": {},
   "source": [
    "# Chapter"
   ]
  },
  {
   "cell_type": "markdown",
   "metadata": {},
   "source": [
    "모르면 다른 사람들거 보고 공부!!!!!!!!!!!!!!!!!!!!!!!! \n",
    "\n"
   ]
  },
  {
   "cell_type": "code",
   "execution_count": null,
   "metadata": {},
   "outputs": [],
   "source": [
    "# 클래스 greeting 메서드를 호출하기 위해 필요한 코드\n",
    "\n",
    "class Person:\n",
    "    def greeting(self):\n",
    "        print('hello')\n",
    "\n",
    "호출 = person()\n",
    "호출.greeting()"
   ]
  },
  {
   "cell_type": "code",
   "execution_count": null,
   "metadata": {},
   "outputs": [],
   "source": [
    "ㄹㄹ"
   ]
  },
  {
   "cell_type": "code",
   "execution_count": 187,
   "metadata": {},
   "outputs": [
    {
     "name": "stdout",
     "output_type": "stream",
     "text": [
      "www.google.com\n"
     ]
    }
   ],
   "source": [
    "# 함수를 이용하여 주소 출력하기 \n",
    "\n",
    "def make_url():\n",
    "    print(\"www.google.com\")\n",
    "\n",
    "\n",
    "make_url()\n",
    "\n",
    "\n",
    "# 참고 https://madplay.github.io/post/python-urllib\n"
   ]
  },
  {
   "cell_type": "code",
   "execution_count": 188,
   "metadata": {},
   "outputs": [
    {
     "name": "stdout",
     "output_type": "stream",
     "text": [
      "28\n"
     ]
    }
   ],
   "source": [
    "def 함수0(num) : \n",
    "    return num * 2 \n",
    "\n",
    "def 함수1(num) : \n",
    "    return 함수0(num + 2) \n",
    "\n",
    "def 함수2(num) : \n",
    "    num = num + 10 \n",
    "    return 함수1(num) \n",
    "\n",
    "c = 함수2(2) \n",
    "print(c)"
   ]
  },
  {
   "cell_type": "code",
   "execution_count": 163,
   "metadata": {},
   "outputs": [
    {
     "name": "stdout",
     "output_type": "stream",
     "text": [
      "A\n",
      "B\n",
      "C\n"
     ]
    }
   ],
   "source": [
    "# 프린트 공부 \n",
    "\n",
    "print(\"A\") \n",
    "\n",
    "def message() : \n",
    "    print(\"B\") \n",
    "\n",
    "print(\"C\") \n",
    "\n",
    "message()\n",
    "\n",
    "\n",
    "# 아래 작성된 코드의 실행 결과를 설명해주세요"
   ]
  },
  {
   "cell_type": "code",
   "execution_count": 168,
   "metadata": {},
   "outputs": [
    {
     "ename": "NameError",
     "evalue": "name 'oz' is not defined",
     "output_type": "error",
     "traceback": [
      "\u001b[1;31m---------------------------------------------------------------------------\u001b[0m",
      "\u001b[1;31mNameError\u001b[0m                                 Traceback (most recent call last)",
      "Cell \u001b[1;32mIn[168], line 1\u001b[0m\n\u001b[1;32m----> 1\u001b[0m \u001b[43moz\u001b[49m\n",
      "\u001b[1;31mNameError\u001b[0m: name 'oz' is not defined"
     ]
    }
   ],
   "source": [
    "oz\n",
    "\n"
   ]
  },
  {
   "cell_type": "code",
   "execution_count": null,
   "metadata": {},
   "outputs": [],
   "source": [
    "# 2차원 배열 요소 세로로 더하는법 \n",
    "\n",
    "arr1 = [[1,2],[2,3]]\n",
    "arr2 = [[3,4],[5,6]]\n",
    "\n",
    "def matrix(a, b):\n",
    "    for i in range(len(a)):\n",
    "        for j in range(len(b)):\n",
    "            a[i][j] += b[i][j]\n",
    "    return a\n",
    "\n",
    "matrix(arr1, arr2)"
   ]
  },
  {
   "cell_type": "code",
   "execution_count": null,
   "metadata": {},
   "outputs": [],
   "source": [
    "# 숫자를 입력 시 일부 자리가 영어로 나오게 만들기\n",
    "\n",
    "1478 → \"one4seveneight\"\n",
    "234567 → \"23four5six7\"\n",
    "10203 → \"1zerotwozero3\"\n",
    "\n",
    "숫자 일부 자리가 안바뀌면 "
   ]
  },
  {
   "cell_type": "code",
   "execution_count": 160,
   "metadata": {},
   "outputs": [
    {
     "data": {
      "text/plain": [
       "[[4, 6], [7, 9]]"
      ]
     },
     "execution_count": 160,
     "metadata": {},
     "output_type": "execute_result"
    }
   ],
   "source": [
    "# 2차원 배열 요소 세로로 더하는법 \n",
    "\n",
    "arr1 = [[1,2],[2,3]]\n",
    "arr2 = [[3,4],[5,6]]\n",
    "\n",
    "def matrix(a, b):\n",
    "    for i in range(len(a)):\n",
    "        for j in range(len(b)):\n",
    "            a[i][j] += b[i][j]\n",
    "    return a\n",
    "\n",
    "matrix(arr1, arr2)"
   ]
  },
  {
   "cell_type": "code",
   "execution_count": 152,
   "metadata": {},
   "outputs": [
    {
     "name": "stdout",
     "output_type": "stream",
     "text": [
      "[2, 4, 6, 8, 10, 12]\n"
     ]
    }
   ],
   "source": [
    "짝수 = list(range(2,14,2))\n",
    "print(짝수)"
   ]
  },
  {
   "cell_type": "code",
   "execution_count": 116,
   "metadata": {},
   "outputs": [
    {
     "name": "stdout",
     "output_type": "stream",
     "text": [
      "종가:190원\n",
      "종가:310원\n"
     ]
    }
   ],
   "source": [
    "ohlc = [[\"open\", \"high\", \"low\", \"close\"], [100, 110, 70, 100], [200, 210, 180, 190], [300, 310, 300, 310]]\n",
    "\n",
    "# type(ohlc)\n",
    "for close in ohlc[1:]:\n",
    "    if close[3] > 150:\n",
    "        print(f'종가:{close[3]}원')\n"
   ]
  },
  {
   "cell_type": "code",
   "execution_count": 88,
   "metadata": {},
   "outputs": [
    {
     "name": "stdout",
     "output_type": "stream",
     "text": [
      "201호\n",
      "202호\n",
      "------ \n",
      "301호\n",
      "302호\n",
      "------ \n",
      "401호\n",
      "402호\n",
      "------ \n"
     ]
    }
   ],
   "source": [
    "opi = [[201, 202], [301, 302], [401, 402]]\n",
    "\n",
    "for i in range(len(opi)):\n",
    "    for j in range(len(opi[i])):\n",
    "        print(f\"{opi[i][j]}호\")\n",
    "    print(\"------ \")\n",
    "\n",
    "\n",
    "# for i in opi => i 는 opi 안에 원소가 차례대로 담기는 것 \n",
    "# for j in range => j 는 i 를 담는다\n",
    "    "
   ]
  },
  {
   "cell_type": "code",
   "execution_count": 89,
   "metadata": {},
   "outputs": [
    {
     "name": "stdout",
     "output_type": "stream",
     "text": [
      "201호\n",
      "202호\n",
      "------ \n",
      "301호\n",
      "302호\n",
      "------ \n",
      "401호\n",
      "402호\n",
      "------ \n"
     ]
    }
   ],
   "source": [
    "opi = [[201, 202], [301, 302], [401, 402]]\n",
    "\n",
    "for i in range(len(opi)):\n",
    "    for j in range(len(opi[i])):\n",
    "        print(f\"{opi[i][j]}호\")\n",
    "    print(\"------ \")\n",
    "    \n",
    "    # 특징 ** 위에서 차례대로 실행이 된다.\n",
    "# 1. for i in range(len(opi)): 입력 시 i 안에 [[],[],[]] 속 원소 차례대로 가져와짐\n",
    "# 2.  마냐게 len 으로만 했을 땐 원소가 3개니까 결과 = 3만 나옴\n",
    "# 3. for i in range(len(opi)): 쉽게 보면 len 이 3이니 range(3) 이라고 보면 됨\n",
    "# 4. \n"
   ]
  },
  {
   "cell_type": "code",
   "execution_count": 92,
   "metadata": {},
   "outputs": [
    {
     "name": "stdout",
     "output_type": "stream",
     "text": [
      "0\n",
      "1\n",
      "2\n"
     ]
    }
   ],
   "source": [
    "opi = [[201, 202], [301, 302], [401, 402]]\n",
    "\n",
    "for i in range(3):\n",
    "    print(i)\n",
    "\n",
    "# 2번에 -> range(3): 지정 시 인덱스 0 ~ 실행되어 나옴 "
   ]
  },
  {
   "cell_type": "code",
   "execution_count": 98,
   "metadata": {},
   "outputs": [
    {
     "name": "stdout",
     "output_type": "stream",
     "text": [
      "0\n",
      "1\n",
      "2\n",
      "HI\n",
      "HI\n",
      " -- \n",
      "HI\n",
      "HI\n",
      " -- \n",
      "HI\n",
      "HI\n",
      " -- \n"
     ]
    }
   ],
   "source": [
    "for i in range(len(opi)):\n",
    "  print(i)\n",
    "for i in range(3):\n",
    "  for j in range(2):\n",
    "    print('HI')\n",
    "  print(\" -- \")"
   ]
  },
  {
   "cell_type": "code",
   "execution_count": 93,
   "metadata": {},
   "outputs": [
    {
     "name": "stdout",
     "output_type": "stream",
     "text": [
      "201호\n",
      "202호\n",
      " ------ \n",
      "301호\n",
      "302호\n",
      " ------ \n",
      "401호\n",
      "402호\n",
      " ------ \n"
     ]
    }
   ],
   "source": [
    "opi = [[201, 202], [301, 302], [401, 402]]\n",
    "\n",
    "for i in range(len(opi)):   #rint \n",
    "    for j in range(len(opi[i])):\n",
    "        print(f\"{opi[i][j]}호\")\n",
    "    print(\" ------ \")"
   ]
  },
  {
   "cell_type": "code",
   "execution_count": null,
   "metadata": {},
   "outputs": [
    {
     "name": "stdout",
     "output_type": "stream",
     "text": [
      "i의 값은 0\n",
      "i의 값은 1\n",
      "i의 값은 2\n",
      "i의 값은 3\n",
      "i의 값은 4\n",
      "i의 값은 5\n",
      "i의 값은 6\n",
      "i의 값은 7\n",
      "i의 값은 8\n",
      "i의 값은 9\n",
      "i의 값은 10\n",
      "i의 값은 11\n",
      "i의 값은 12\n",
      "i의 값은 13\n",
      "i의 값은 14\n",
      "i의 값은 15\n",
      "i의 값은 16\n",
      "i의 값은 17\n",
      "i의 값은 18\n",
      "i의 값은 19\n",
      "i의 값은 20\n",
      "i의 값은 21\n",
      "i의 값은 22\n",
      "i의 값은 23\n",
      "i의 값은 24\n",
      "i의 값은 25\n",
      "i의 값은 26\n",
      "i의 값은 27\n",
      "i의 값은 28\n",
      "i의 값은 29\n",
      "i의 값은 30\n",
      "i의 값은 31\n",
      "i의 값은 32\n",
      "i의 값은 33\n",
      "i의 값은 34\n",
      "i의 값은 35\n",
      "i의 값은 36\n",
      "i의 값은 37\n",
      "i의 값은 38\n",
      "i의 값은 39\n",
      "i의 값은 40\n",
      "i의 값은 41\n",
      "i의 값은 42\n",
      "i의 값은 43\n",
      "i의 값은 44\n",
      "i의 값은 45\n",
      "i의 값은 46\n",
      "i의 값은 47\n",
      "i의 값은 48\n",
      "i의 값은 49\n",
      "i의 값은 50\n",
      "i의 값은 51\n",
      "i의 값은 52\n",
      "i의 값은 53\n",
      "i의 값은 54\n"
     ]
    }
   ],
   "source": [
    "# count = input() -> 여기서 잘못된 부분 : input 함수를 쓰면 str 변수로 저장되니 아래처럼 변환해야함\n",
    "count = int(input())\n",
    "\n",
    "for i in range(count):\n",
    "    print('i의 값은', end=' ')\n",
    "    print(i)"
   ]
  }
 ],
 "metadata": {
  "kernelspec": {
   "display_name": "Python 3",
   "language": "python",
   "name": "python3"
  },
  "language_info": {
   "codemirror_mode": {
    "name": "ipython",
    "version": 3
   },
   "file_extension": ".py",
   "mimetype": "text/x-python",
   "name": "python",
   "nbconvert_exporter": "python",
   "pygments_lexer": "ipython3",
   "version": "3.11.7"
  }
 },
 "nbformat": 4,
 "nbformat_minor": 2
}
