{
 "cells": [
  {
   "cell_type": "markdown",
   "metadata": {},
   "source": [
    "단축키 \n",
    "\n",
    "- Ctrl + end 맨 아래로 이동 \n",
    "- Ctrl + home 맨 위로 이동 \n",
    "- Ctrl + enter 수정모드 없애기"
   ]
  },
  {
   "cell_type": "markdown",
   "metadata": {},
   "source": [
    "False => 0\n",
    "True => 1"
   ]
  },
  {
   "cell_type": "markdown",
   "metadata": {},
   "source": [
    "\n",
    "\n",
    "시퀀스 자료형 -> 요소들이 연속적으로 이어진 자료형을 의미함\n",
    "\n",
    "# srt -> 문자열 ('') 사용 (\"\") 와 같지만 \n",
    "    문자열 안에 구분을 해야하는 경우가 생길때 \" \" 와 ' ' 둘다 사용\n",
    "- 시퀸스형에서 사용할 수 있는 메소드 count(), index(), split() 등\n",
    "- 슬라이싱 [:] [::]\n",
    "- 요소들로 이루어져 가능했던 기능들. 요소 합치기, 요소 찾기 등\n",
    "\n",
    "# list -> 대활호 []\n",
    "- 시퀸스형에서 사용할 수 있는 메소드 count(), index(), split() 등\n",
    "                        -> split() 함수는 문자열을 분할한 결과를 리스트로 반환합니다. \n",
    "- 슬라이싱 [:] [::]\n",
    "- 요소들로 이루어져 가능했던 기능들. 요소 합치기, 요소 찾기 등\n",
    "- list 지원하는 다양한 메소드 append(), insert(), del, sort(), reverse\n",
    "- a = [[],[],[]] -> 2차원 배열이라고 함 \n",
    "                    ->  for j in range(len(opi[a])): 사용하면 나뉨\n",
    "\n",
    "# tuple -> 소괄호 ()\n",
    "- 리스트처럼 요소를 일렬로 저장하지만 안에 저장된 요소를 변경, 추가, 삭제할 수 없다\n",
    "- 값을 추가, 삭제, 변경할 수 없기 때문에 사용하지 못하는 메소드가 많다\n",
    "- tuple 의 생성 방법은 tuple = 값, 값 또는 tuple = (값, 값)\n",
    "- 튜플은 소괄호 입니다\n",
    "\n",
    "# dict(딕셔너리) -> 중괄호 {}\n",
    "    => 공통 특징 : 데이터의 연관성이 없다.\n",
    "    => dict 는 여러개의 값이 일렬로 정렬되면서도 값끼리의 연광성이 존재\n",
    "        => 예시 : 게임 캐릭터 힘:30, 지능:20, 체력:40, 민첩:90\n",
    "                {키 : 값} \n",
    "                {key1 : value1, key2 : value2}\n",
    "                dict의 경우에 딕셔너리를 만드는 함수로 지금 힘, 지능, 체력을 입력했을 때\n",
    "                내부의 로직에 의해 str값으로 변경 되어 출력됨\n",
    "\n",
    "\n",
    "\n",
    "# range (범위안에 연속된 데이터를 만드는 시퀀스)\n",
    "- 연속된 숫자를 생성하는 기능\n",
    "    range(10) -> 시작, 끝   \n",
    "        = list(range(0,20)) -> 20까지 숫자 0~19  \n",
    "        = list(range(20,0,-1)) -> 반대로 20~1   \n",
    "        -> index 위치로는 0번이 1번이라서 마지막 숫자 X\n",
    "\n",
    "# set -> 중괄호 사용 {}\n",
    "- 수학의 집합을 의미한다\n",
    "- 딕셔너리와 같이 순서가 없다\n",
    "- 값의 중복을 허락하지 않는다 (아주 중요)\n",
    "- dict 와 동일하게 중괄호 사용 {} \n",
    "    ▶ 순서가 없고, 출력하면 요소가 다르게 나오는 것도 특징이다.◀\n",
    "        출력할 때마다 출력값이 다르게 나옴 \n",
    "        \n",
    "    # set 와 dict의 차이는 키값의 유무라 생각하면 됨 \n",
    "    # set, dict 는 둘다 중괄호 {} 를 사용하지만 입력값에 따라 type 이 변환됨 \n",
    "            예 :\n",
    "            => dict 타입 =>  fruit = {\"맛\" : \"배추\", \"별로\" : \"당근} \n",
    "            => set  타입 => 채소 = {'당근', '배추', '양파'} \n",
    "                    set 참고 -> 키 값이 없고 중괄호로 묶여있기 때문에 해당 타입 뜸\n",
    "\n",
    "\n",
    "참고해서 공부할 자료 !!!!!!\n",
    "\n",
    "> https://kay-dev.tistory.com/entry/Python-%EC%8B%9C%ED%80%80%EC%8A%A4-%EC%9E%90%EB%A3%8C%ED%98%95-1%ED%83%84-str-list\n",
    "\n"
   ]
  },
  {
   "cell_type": "markdown",
   "metadata": {},
   "source": [
    "# 합집합(nuion) -> 각 원소에 있는 것을 합치는 것  (중복은 삭제)\n",
    "채소1 | 채소2\n",
    "set.union (채소1,채소2)\n",
    "\n",
    "# 교집합(intersection) -> 공통된 것만 출력 \n",
    "채소 & 채소2\n",
    "set.intersection (채소1,채소2)\n",
    "\n",
    "# 차집합 (difference) -> 공통되지 않은 것 출력\n",
    "채소1 - 채소2 \n",
    "set.difference (채소1,채소2)\n",
    "\n",
    "# **bool의 주의할점 **\n",
    "- True x true / False x false\n",
    "\n",
    "# 사칙연산자\n",
    "        - 나누기 종류 (/), (//), (%) \n",
    "                * /  => 실수(float)으로 리턴    => 2/3 = 0.666666\n",
    "                * // => 정수 몫만 구할 때 사용  => 3//2 = 1 \n",
    "                * %  => 나머지 값을 리턴        => 2%3 = 2\n",
    "\n",
    "# 부등호    \n",
    "        > 보다 크다 / == 같다 / != 같지 않다 / >= 크거나 같다\n",
    "\n",
    "# 대입 연산자\n",
    "        +=1 더하기 (증감)\n",
    "        -= 빼기 (감소) \n",
    "\n",
    "\n",
    "# **중요**\n",
    "\n",
    "- ==, is문\n",
    "> 같다라는 표시는 같지만 is 는 객체를 인지함\n",
    "\n",
    "# 상수 \n",
    "        - 변하지 않는 수를 말함 "
   ]
  },
  {
   "cell_type": "markdown",
   "metadata": {},
   "source": [
    "정수 실수 문자 등 형변환 참고 \n",
    "\n",
    "\n",
    "- int(integer) : 정수\n",
    "> 1,2,3,4,5, -1,-2,-3,-4,-5\n",
    "소수점 없는 수  1\n",
    "\n",
    "- float(float) : 실수\n",
    "> 1.2 3.3 4.5 4.0\n",
    "소수점 있는 수 1.1\n",
    "\n",
    "- str(string) : \n",
    "> 문자\n",
    "\n",
    "- bool(bool, boolean) : \n",
    "> 참 또는 거짓, true 또는 false, 1 또는 0\n"
   ]
  },
  {
   "cell_type": "code",
   "execution_count": null,
   "metadata": {},
   "outputs": [],
   "source": [
    "\n",
    "print ()\n",
    "> print(\"초코칩\", \"민트\", \"샷추가\", \"휘핑크림\" ,sep='\\n')\n",
    "\n",
    "# ,sep='/' 를 넣으면 , 사이 사이에 기호가 들어감\n",
    "# sep = 에 \\n 를 넣으면 한줄 한줄씩 출력되도록 하기\n",
    "# end= ' ' 를 넣으면 한 줄로 가로로 쭉 출력"
   ]
  },
  {
   "cell_type": "code",
   "execution_count": 3,
   "metadata": {},
   "outputs": [
    {
     "name": "stdout",
     "output_type": "stream",
     "text": [
      "초코칩,민트,샷추가,휘핑크림\n",
      "초코칩\n",
      "민트\n",
      "샷추가\n",
      "휘핑크림\n",
      "초코칩 민트 샷추가 휘핑크림 "
     ]
    }
   ],
   "source": [
    "print(\"초코칩\", \"민트\", \"샷추가\", \"휘핑크림\" ,sep=',')\n",
    "print(\"초코칩\", \"민트\", \"샷추가\", \"휘핑크림\" ,sep='\\n')\n",
    "print(\"초코칩\", \"민트\", \"샷추가\", \"휘핑크림\", end= ' ')"
   ]
  },
  {
   "cell_type": "markdown",
   "metadata": {},
   "source": [
    "input().split() 나누는 것 (,)를 넣으면 input에 , 를 넣으면 글 나눠짐 \n"
   ]
  },
  {
   "cell_type": "markdown",
   "metadata": {},
   "source": [
    "# 데이터 삽입\n",
    "변수.add(\"\")\n",
    "변수.update(\"\")\n",
    "\n",
    "# 데이터 삭제\n",
    "변수.remove(\"\")\n",
    "변수.discard(\"\")\n",
    "\n",
    "# set 에선 랜덤으로 삭제, 다른 함수에서는 끝 자리 삭제\n",
    "채소 = {\"당근\", \"배추\", \"양파\"}\n",
    "반환된_채소 = 채소.pop()\n",
    "print (f'{반환된_채소}는 내다버린 채소입니다.')"
   ]
  },
  {
   "cell_type": "markdown",
   "metadata": {},
   "source": [
    "#list 넣고, 바꾸고, 지우고 \n",
    "\n",
    "mzfood = [\"숙주\", \"분모자\", \"마라\", \"소세지\", \"소고기\", \"옥수수면\"]\n",
    "\n",
    "#값을 넣는 방법 2가지 : append() : 마지막 요소에 값을 넣어 \n",
    "# insert() : 원하는 곳에 값을 넣어\n",
    "\n",
    "mzfood.append(\"고수\")\n",
    "print(mzfood)\n",
    "\n",
    "mzfood.insert (0,\"탕후루\")\n",
    "print(mzfood)\n",
    "\n",
    "\n",
    "# 값 지우고 \n",
    "\n",
    "del mzfood [-1]\n",
    "print(mzfood)\n",
    "\n",
    "del mzfood [0]\n",
    "print(mzfood)\n",
    "\n",
    "\n",
    "# 값 바꾸고\n",
    "\n",
    "mzfood[-2] = \"양고기\"\n",
    "print(mzfood)\n",
    "\n",
    "# 값 순서 뒤바꾸기 \n",
    "\n",
    "print(mzfood)\n",
    "mzfood.reverse()\n",
    "print(mzfood)\n",
    "\n",
    "# 값 오름차순으로 변경\n",
    "\n",
    "mzfood.sort()\n",
    "print(mzfood)"
   ]
  },
  {
   "cell_type": "markdown",
   "metadata": {},
   "source": [
    "# if 문이란? if 문 문법과 주의사항 \n",
    "\n",
    "- 특정 조건일 때 코드를 실행하는 문법 (조건 비교)\n",
    "    ● 주의사항 : 콜론 : 과 들여쓰기 (일정해야함)\n",
    "- 조건이 True 면 if 문 안에 코드가 실행 아닐 경우 실행 안 됨\n",
    "- 모든 문자열 'hello' 는 무조건 True 다.\n",
    "- 빈 것 if '': 은 False ->  사용자 입력 필요 "
   ]
  },
  {
   "cell_type": "markdown",
   "metadata": {},
   "source": [
    "# if, elif, else\n",
    "\n",
    " - 여러개의 조건에 따라 표현 시 사용\n",
    "\n",
    " if 조건 표현 A:\n",
    "    A 조건이 참일 때 수행할 표현  \n",
    "elif 조건 B:\n",
    "    B 조건이 참일 때 수행할 표현(A조건은 거짓)\n",
    "...\n",
    "else:    \n",
    "    모든 조건이 거짓일 때 수행할 표현\n",
    "    \n",
    "    \n",
    "    if 부분이 실행되려면 변수 = A 라는 값을 가져야 하고 \n",
    "    elif 부분이 실행되려면 변수 = B 라는 값을 가져야 하고\n",
    "    else 부분이 실행되려면 변수가 결과적으로 입력된 값(A,B아닌 것)을 \n",
    "    가지게 되며 if 와 elif 조건에 해당 되질 않아서 결과적으로 입력된 값을 출력하게 됨 "
   ]
  },
  {
   "cell_type": "markdown",
   "metadata": {},
   "source": [
    "# for 문 문법과 주의사항\n",
    "- 프로그래밍 안에서 반복되는 작업을 간단하게 처리하기 위해서 사용하는 기능\n",
    "    ● 주의사항 : 콜론 : 과 들여쓰기 (일정해야함)\n",
    "- for i 의 역할은 list 의 요소를 하나씩 담는 역할 \n",
    "    -> 여기서 일자로 출력 시 print (i, end='') 를 넣어주면 됨\n",
    "    -> 반대로 출력 for i in reversed(\"입력\"):\n"
   ]
  },
  {
   "cell_type": "markdown",
   "metadata": {},
   "source": [
    "# while 문 print 가 반복되는 것 \n",
    "    - i = 0              # 초기식 \n",
    "    - while i<10:        # while 조건식 \n",
    "\n",
    "    ● 들여쓰기가 4칸으로 동일해 동일한 코드 블록을 구성\n",
    "    - print(동물)        # 반복할 코드\n",
    "    - print(\"보러갈래?)  # 반복할 코드\n",
    "    i +=1               # 변환식 -> 위 초기식이 있다면 변환식은 꼭 있다\n",
    "\n",
    "    # while 문 조건식 증감, 감소 \n",
    "\n",
    "while 뒤에 조건문이 True일 경우에 while문이 실행이 됨 ! \n",
    "    # i = 10 이하인 것 True\n",
    "    # i = 10 이상인 것 False\n",
    "    # i가 10보다 크기 때문에 whlie 문 실행 안 됨 (index기준)\n",
    "\n",
    "while -> while은 해당 블럭 안에 코드 조건이 False가 될때까지 반복\n",
    "while i < 10의 의미는 10까지 반복해라 보다는\n",
    "\n",
    "\n",
    "# while 문을 조심스럽게 사용해야하는 이유\n",
    "    - 조건이 잘못 설정되면 무한 루프에 빠져 리소스 소모\n",
    "    - 하지만 잘 사용하면 for 문 보다 효율적이다"
   ]
  },
  {
   "cell_type": "markdown",
   "metadata": {},
   "source": [
    "# def \n",
    "\n",
    "def 안에 있는 코드를 보통 로직이라고 하는데\n",
    "해당 로직을 계속 반복해서 사용해야할 때 def 를 선언해서 많이 사용함"
   ]
  },
  {
   "cell_type": "markdown",
   "metadata": {},
   "source": [
    "참고자료 : https://dojang.io/mod/page/view.php?id=2373\n",
    "\n",
    "\n",
    "# greeting \n",
    "    greeting 메서드에서는 print로 self.hello를 출력하도록 만듬\n",
    "\n",
    "\n",
    "# self의 자기 자신의미 \n",
    "\n"
   ]
  },
  {
   "cell_type": "markdown",
   "metadata": {},
   "source": [
    "r - 읽기 \n",
    "w - 쓰기 (주의:덮어쓰기)\n",
    "r - 추가 "
   ]
  }
 ],
 "metadata": {
  "kernelspec": {
   "display_name": "Python 3",
   "language": "python",
   "name": "python3"
  },
  "language_info": {
   "codemirror_mode": {
    "name": "ipython",
    "version": 3
   },
   "file_extension": ".py",
   "mimetype": "text/x-python",
   "name": "python",
   "nbconvert_exporter": "python",
   "pygments_lexer": "ipython3",
   "version": "3.9.6"
  }
 },
 "nbformat": 4,
 "nbformat_minor": 2
}
