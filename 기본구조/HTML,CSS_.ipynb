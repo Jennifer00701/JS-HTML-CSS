{
 "cells": [
  {
   "cell_type": "markdown",
   "metadata": {},
   "source": [
    "# HTML"
   ]
  },
  {
   "cell_type": "markdown",
   "metadata": {},
   "source": [
    "* -> 전체선택 \n",
    ". -> css 에서 html에 선언한 class \n",
    "# -> id \n",
    "\n",
    "header 태그 의~ .header 클래스 명을 사용하고 싶을 때 띄어쓰기 필수 \n",
    "\n",
    "html 속한 영역 -> 웹 브라우저 화면 전체 100% 로 하면 화면을 꽉채워서 쓰겠다는 의미 \n",
    "body 에는 기본 마진이 있음 (테투리뜨는거) -> margin:0; 으로 변경  \n",
    "\n",
    "이미지, 텍스트 입력 시 \n",
    "이미지 -> 인라인형태를 가짐 \n",
    "텍스트 -> 블록요소라 이미지 아래 배치\n",
    "\n",
    "이미지, 텍스트 \n",
    "# text-align : left or rigth; or center or justify; (양끝으로 붙는다 양끝정렬)\n",
    "# float : left or rigth; or center or justify; (양끝으로 붙는다 양끝정렬) \n",
    "\n",
    "    justify-content:center ; 자사용 ######## \n",
    "\n",
    "# clear\n",
    "    float 에 대응속성\n",
    "        - left 오른쪽에 있는 float 을 무시하겠다.\n",
    "        - right 왼쪽에 있는 float 을 무시하겠다.\n",
    "        - both 양쪽 다 무시하겠다.\n",
    "        \n",
    "# max-width \n",
    "        최대 크기 100으로 지정하지만 75를 넘지 못하게 \n",
    "    width : 100%;\n",
    "    max-width 75rem:\n",
    "\n",
    "        "
   ]
  },
  {
   "cell_type": "markdown",
   "metadata": {},
   "source": [
    "Margin (마진): 요소 주위의 공간을 나타냅니다. Margin은 요소와 인접한 다른 요소들과의 간격을 조절합니다.\n",
    "\n",
    "Padding (패딩): 요소 내부의 내용과 테두리(Border) 사이의 공간을 나타냅니다. Padding은 내용과 테두리 사이의 간격을 조절합니다.\n",
    "\n",
    "Width (너비): 요소의 가로 폭을 나타냅니다. Width를 설정하면 요소의 너비가 지정된 값으로 설정됩니다.\n",
    "\n",
    "Border-Radius (테두리 반지름): 테두리의 모서리를 둥글게 만드는 속성입니다. Border-Radius를 설정하면 테두리의 각 모서리가 둥글게 보입니다."
   ]
  },
  {
   "cell_type": "markdown",
   "metadata": {},
   "source": [
    "&# 속성\n",
    "\n",
    "# 돋보기 <input type=\"button\" value=\"&#128269;\">\n",
    "# 메뉴버튼 <input type=\"button\" value=\"&#9776;\"> \n",
    "# 저작권 표시 <span> &copy;갱코씨</span>\n",
    "# &nbsp; 띄어쓰기 \n",
    " <h1>고&nbsp;&nbsp;양이</h1>\n",
    "  => html 에선 공백, 띄어쓰기 1회만 허용 \n",
    "  => 원하는 띄어쓰기 만큼 넣어주면 됨. "
   ]
  },
  {
   "cell_type": "markdown",
   "metadata": {},
   "source": [
    "# Float 정렬 "
   ]
  },
  {
   "cell_type": "markdown",
   "metadata": {},
   "source": [
    "# 텍스트 정렬 text-align\n",
    "\n",
    "left : 왼쪽 정렬\n",
    "right: 오른쪽 정렬\n",
    "center : 가운데 정렬\n",
    "justify : 양쪽 정렬\n",
    "start : 현재 텍스트 줄의 시작 위치에 맞추어 문단 정렬\n",
    "end : 현재 텍스트 줄의 끝 위치에 맞추어 문단 정렬\n",
    "match-partent : 부모 요소에 따라 문단 정렬"
   ]
  },
  {
   "cell_type": "markdown",
   "metadata": {},
   "source": [
    "# calc  (스크린 크기 조정)\n",
    "\n",
    "height: calc(100% - 120px); \n",
    "** 띄어쓰기 잘 안하면 적용 안됨 .. \n",
    "100% 내가 속한 영역에 전체 (-) 120px 계산해서 주세요 \n",
    "입력창을 만드는데 120px 을 사용할 거기 때문에\n",
    "속성끼리 계산해서 해당 px 사용  \n",
    "\n"
   ]
  },
  {
   "cell_type": "markdown",
   "metadata": {},
   "source": [
    "HTML 기본 문법 -->\n",
    "\n",
    "# p 태그는 텍스트를 입력 시 사용되며, 문단(내용)표시하는 태그\n",
    "        => 태그가 나뉘어져 있기 때문에 나눠서 나옴\n",
    "<p> p 태그는 텍스트를 입력 시 사용</p>\n",
    "<p> p 문단과 문단사이에는 공백이 있다.</p>\n",
    "\n",
    "<p style=\"color: red;\"> p 태그는 텍스트를 입력 시 사용</p>\n",
    "\n",
    "# hr 단일태그 (콘텐츠 포함안함_수평선 표시)\n",
    "    => 구분선 (주제변경,내용변경) <hr>\n",
    "\n",
    "# h1 태그는\n",
    "    => 제목을 나타내고 숫자와 함께 사용\n",
    "    => 숫자의 의미는 크기를 나타냄 (가장 큼 =1, 자장 작음 =6)\n",
    "<h1> 가장 큰 제목입니다. </h1>\n",
    "<h6> 가장 작은 제목입니다. </h6>\n",
    "\n",
    "\n",
    "# <br> 줄바꿈 표시, 두번 이상 줄바꿈\n",
    "    <br/> 줄 <br/>바<br/>꿈\n",
    "    => 출력 \n",
    "    줄\n",
    "    바\n",
    "    꿈\n",
    "\n",
    "# 윗 라인 여백 \n",
    "   line-height: 5;\n",
    "   \n",
    "# &copy -> 저작권 표시 \n",
    "    <span> &copy;갱코씨</span>\n",
    "\n",
    "# &nbsp; 띄어쓰기 \n",
    " <h1>고&nbsp;&nbsp;양이</h1>\n",
    "  => html 에선 공백, 띄어쓰기 1회만 허용 \n",
    "  => 원하는 띄어쓰기 만큼 넣어주면 됨. \n",
    " \n",
    "\n",
    "<!doctype html> \n",
    "<html>\n",
    "    <head>\n",
    "        문서의 정보\n",
    "    </head>\n",
    "    <body> \n",
    "        화면에 표시될 내용\n",
    "    </body>\n",
    "</html> -->\n",
    " <title> 문서의 제목 </title>\n",
    "\n",
    "        <meta charset=\"utf-8\"> \n",
    "        <!-- 단일태그 -> 화면에 문서가 랜더링 되기 전 브라우저가 문서를 해석하는 단계에서 인코딩 방식 확인\n",
    "        피시에 따라 다른 인코딩방식을 동일하게 맞춰주는 것 정상 텍스트 깨져보이는 경우 발생 안하도록 사용 -->"
   ]
  },
  {
   "cell_type": "markdown",
   "metadata": {},
   "source": [
    "# 인라인 블록 요소 (중요)"
   ]
  },
  {
   "cell_type": "markdown",
   "metadata": {},
   "source": [
    "<블록 레벨 요소/>\n",
    "        => 사용 가능한 최대 가로 너비를 사용함 (기본100%)\n",
    "        => 전체를 차지하기 때문에 각 요소들이 수직으로 쌓임 (한줄한개배치)\n",
    "        => 크기값을 가질 수 있음 (가로너비, 세로길이 지정가능)\n",
    "        => 상하좌우 마진, 패딩 가질 수 있음\n",
    "        => 레이아웃을 작업하는 요소로 적합\n",
    "\n",
    "\n",
    "\n",
    "<인라인 요소/>\n",
    "       =>  자기에게 필요한 만큼의 공간만 차지\n",
    "       => 요소들이 수평을 쌓임 (한줄에 여러개 배치)\n",
    "       => 크기값 가질 수 없음 (사이즈지정불가)\n",
    "       => 상하 마진 적용 불가능 (좌우 마진은 가능, 상하좌우 패딩도 가능)\n",
    "       \n",
    "<mark> 마크 텍스트 요소 - 형광펜 효과 </mark>\n",
    "<strong>스트롱 텍스트 요소 - 볼드효과</strong>\n",
    "<em>이엠 텍스트 요소 - 이탤릭체 효과</em>       => \"\" 효과 (기울이기)\n",
    "<q>큐 텍스트 요소 - 인용구 효과</q>\n",
    "<s>에스 텍스트 요소 - 취소선 효과 </s>        => 글위에 찍 표시 취소선 \n",
    "\n",
    "    => 출력 \n",
    "    마크텍스트요소-형광펜효과 스트롱텍스트요소-볼드효과 ~ 한줄로 쭉 나옴 \n",
    "\n",
    "=======> 예시\n",
    "    <body>\n",
    "    <h1> 텍스트 요소 특징 </h1>\n",
    "    <p> 그 다음 요소는 옆이 아닌 아래에 표시</p>\n",
    "    <p> 그 다음 요소는 옆이 아닌 아래에 표시</p>\n",
    "    <strong>인라인 텍스트, 두껍게 나와요</strong>\n",
    "    <mark style = \"color : red\";>나는 형광색을 좋아해요</mark>\n",
    "    <p> \n",
    "        <s>글자에 취소선을 그려야해</s>\n",
    "        </p>\n",
    "\n",
    "글꼴 속성\n",
    "https://sorto.me/docs/Web/CSS/font-weight"
   ]
  },
  {
   "cell_type": "markdown",
   "metadata": {},
   "source": [
    "# display "
   ]
  },
  {
   "cell_type": "markdown",
   "metadata": {},
   "source": [
    "# display = 화면에 보여주는 것 (요소의 유형 변경 가능)\n",
    "    display 속성은 요소를 블록과 인라인 요소 중 어느쪽으로 처리할지 정의함 \n",
    "\n",
    "div{display:inline;}\n",
    "    블록 레벨 요소인 div 요소를 인라인으로 처리하고 싶을 때 \n",
    "\n",
    "a{display:block;}\n",
    "    인라인 요소인 a 요소를 블록 레벨로 처리하고 싶을 때\n",
    "# display 속성에 적용할 수 있는 것들\n",
    "\n",
    "none -  요소를 화면에 표시하지 않는다\n",
    "block - 요소를 블록 레벨 요소로 만든다\n",
    "inline - 요소를 인라인 요소로 만든다\n",
    "inline-block - 요소를 인라인 요소로 표시하되, 블록 레벨 특성을 추가한다."
   ]
  },
  {
   "cell_type": "markdown",
   "metadata": {},
   "source": [
    "# position\n"
   ]
  },
  {
   "cell_type": "markdown",
   "metadata": {},
   "source": [
    "# position - 문서상에 요소를 배치하는 방법을 정의 (최종 위치를 결정)\n",
    "    - position 난 이렇게 배치할거야;\n",
    "    - top 윗면에서 얼만큼 떨어뜨릴거야; \n",
    "    - right 오른쪽에서부터 얼만큼 떨어뜨릴거야;\n",
    "    - bottom 아랫면에서부터 얼만큼 떨어뜨릴거야;\n",
    "    - letf 왼쪽면에서 얼만큼 떨어뜨릴거야 \n",
    "\n",
    "    => 지정하는 곳에서 부터 ~ 이동한다 \n",
    "    => 상하좌우 위치 지정은 필요에 따라 선택적으로 사용 \n",
    "\n",
    "# relative (상대적)\n",
    "    - position 속성을 relative 로 설정하면 요소를 원래 위치에서 벗어나게 배치할 수 있게 됨\n",
    "    - 요소의 위치 지정은 top, bottom, left, right 속성을 이용해 요소가 원래 위치에 있을 때 \n",
    "    상하좌우로 얼마나 떨어지게 할지 지정함 "
   ]
  },
  {
   "cell_type": "markdown",
   "metadata": {},
   "source": [
    "# 컨테이너 \n",
    "    = 콘텐츠나 레이아웃에 아무런 영향을 주지 않고 다른 요소 여럿을 묶어 관리하기 편하게 만드는 역할 \n",
    "    = <div id =\"stude\"> 해당 컨테이너의 id 지정 \n",
    "<div></div> 블록 라벨 컨테이너 (한묶음으로 묶기)\n",
    "<span></span> 인라인 컨테이너 (여러 내용 중 이 부분만 따로 묶기)\n",
    "    => <spen title = \"예능프로그램\"> 무한도전 </spen>\n",
    "        => 입력 시 개발자 도구에서 확인하면 예능프로그램이라는 말풍선 나타남\n",
    "\n",
    "\n",
    "\n",
    "# class => 두개 이상의 값을 가질 수 있고 하나의 값을 두개 이상의 태그에 넣을 수 있다.\n",
    "    <p class=\"text\"> 텍스트라는 식별값 주기 class 가 p 태그 임 <p/>\n",
    "    <p class=\"text content\"> 띄어쓰기 시 클래스 값이 두개인 p태그가 된 것임\n",
    "\n",
    "# 전역속성 -> 모든 html 에 줄 수 있는 속성\n",
    "\n",
    "id -> 요소 고유한 이름을 부여할 수 있는 식별자 역할 \n",
    "class -> 요소를 그룹 별로 묶을 수 있는 식별자 역할\n",
    "style -> 요소에 css 스타일 선언\n",
    "title -> 요소의 추가 정보를 제공하는 텍스트로, 툴팁 제공\n",
    "\n",
    "# img <img src = \"url\"/> \n",
    "    => 이미지를 표시하지만 닫는 태그는 필요없음 src(소스) 속성\n",
    "    => 이미지의 위치정보와 파일명, 이미지의 url을 입력받음\n",
    "    => 서버의 이미지 파일이거나 내 컴퓨터에 저장된 이미지 파일이어도 됨\n",
    "    => ../ 상위 폴더에 있는, ./ 이미지 근처에서 불러오기 \n",
    "\n",
    "    => width 너비 \n",
    "    => height 높이 \n",
    "    => 너비, 높이 각 px로 지정됨  \n",
    "\n",
    "# alt 대체 텍스트 역할 \n",
    "    => 이미지가 로딩되기 전이나 로핑 실패한 경우 대체 텍스트 표시\n",
    "    => 시각 장애인에게 웹페이지를 서비스해야 하는 상황에대한 대비 가능\n",
    "    ( 음성 인식기가 이미지 대신 이를 확인) 웹 접근성\n",
    "\n",
    "예 :  <img src=\"./스크린샷 2024-01-09 오후 2.26.24.png\"/ alt=\"화면에 텍스트 나오는 중 \">"
   ]
  },
  {
   "cell_type": "markdown",
   "metadata": {},
   "source": [
    "# href 링크 이동\n",
    "    => 해당 페이지에서 이동 target=\"_self\"\n",
    "    => 새로운 페이지로 이동 target=\"_blank\"\n",
    "    \n",
    "\n",
    "    <a href=\"https://www.naver.com/\"\n",
    "    target=\"_self\">\n",
    "        네이버로 가볼게요\n",
    "    </a>\n",
    "\n",
    "    <hr>\n",
    "\n",
    "    <a href=\"https://www.naver.com/\"\n",
    "    target=\"_blank\">\n",
    "        네이버로 가볼게요\n",
    "    </a>"
   ]
  },
  {
   "cell_type": "markdown",
   "metadata": {},
   "source": [
    "# li 목록 만들기\n",
    "    =>  목록에 들어가는 항목 하나 하나를 표햔 시 사용하는 태그\n",
    "    => <ul><ol><li> 모두 블록 레벨 요소를 만드는 태그\n",
    "    => 항목들 (<li>태그들)을 감싸는 태그가 무엇이냐에 따라 기호가 달라짐\n",
    "\n",
    "* 목록 만들기\n",
    "<ul>\n",
    "    <li>aa</li>\n",
    "    <li>bb</li>\n",
    "</ul>\n",
    "\n",
    "1. 목록 만들기 \n",
    "<ol>\n",
    "    <li>aa</li>\n",
    "    <li>bb</li>\n",
    "</ol>\n",
    "\n",
    "목록 안에 목록 만들기\n",
    "<ul>\n",
    "    <li>aa</li>\n",
    "    <ul>\n",
    "    <li>소문자</li>\n",
    "    </ul>\n",
    "    <li>bb</li>\n",
    "</ul>\n",
    "\n",
    "ol 자동완성\n",
    "<ol start=\"2\" type=\"A\"> \n",
    "    => start = 몇 번 부터 시작할건가\n",
    "    => type = 어떤 타입으로 (숫자,영어,소문자 등)"
   ]
  },
  {
   "cell_type": "markdown",
   "metadata": {},
   "source": [
    "# 표(table)\n",
    "\n",
    "<table> 하나의 표를 나타내는 태그\n",
    "<tr> 표 안에서 하나의 행을 나타내는 태그 \n",
    "<th> 행 안에서 제목에 해당하는 셀을 나타내는 태그\n",
    "<td> 행 안에서 콘텐츠에 해당하는 셀을 나타내는 태그 "
   ]
  },
  {
   "cell_type": "markdown",
   "metadata": {},
   "source": [
    "# style"
   ]
  },
  {
   "cell_type": "markdown",
   "metadata": {},
   "source": [
    "# 글씨 가운데 정렬 \n",
    "        <h2 style=\"text-align: center;\"> 게코가 좋아하는 것 </h2> => 가운데로 모으기\n",
    "\n",
    "# 이미지 가운데 정렬\n",
    "        => 스타일을 따로 넣어 디스플레이, 마진 넣어주기\n",
    "        <style> img {display: block; margin: auto;} </style>\n",
    "\n",
    "# &copy -> 저작권 표시 가운데 정렬 \n",
    "        <span> &copy;갱코씨</span> \n",
    "        div 로 감싸주기 <div style=\"text-align: center;\"> </div>\n",
    "                => 여기서 실수한 부분 spen 에 stye 을 넣어주면 배치되는 기준이 인라인 요소 \n",
    "                상태에서는 자신만큼 공간만 차지하기 때문에 효과 나타나지 않음 <div 로 묶어줘야함>\n",
    "\n",
    "# 행 높이 \n",
    "        line-height 1.3; "
   ]
  },
  {
   "cell_type": "markdown",
   "metadata": {},
   "source": [
    "# 입력태그 (input)\n",
    "\n",
    "<h1>, <p>, <img> 등 태그느 모두 콘텐츠를 보여주는 태그인데 \n",
    "입력 요소를 만드는 다양한 태그 중 대표는 input이다.\n",
    "\n",
    "# <# input type = \"데이터 유형\">     => 어떤 유형의 데이터를 입력받을 것인지 \n",
    "- text 기본값, 텍스트 입력 받기\n",
    "- email 이메일 입력 받기\n",
    "- password 비밀번호 입력 받기\n",
    "-search 검색할 텍스트 입력 받기\n",
    "- date 날짜와 시간 지정\n",
    "\n",
    "# 수치를 입력받는 type 들 \n",
    "- color 색깔을 선택할 수 있다\n",
    "- number 수치를 선택할 수 있다\n",
    "- range 수준(달성도)을 선택할 수 있다\n",
    "\n",
    "# label 태그 함께 사용됨\n",
    "- label 태그는 입력 요소에 라벨을 붙이는 역할\n",
    "- 좀 더 직관적으로 입력 요소를 제공할 수 있고 코드의 가독성 및 명확성이 향상되어 코드 작성자에게 도움이 됨 \n",
    "\n",
    "# input \n",
    "    <input type=\"color\">\n",
    "    <input type=\"number\">\n",
    "    <input type=\"range\">\n",
    "    <input type=\"checkbox\"> 글자 작성 \n",
    "\n",
    "\n",
    "# select \n",
    "    => 다수의 옵션 (선택지(드롭다운))을 만든다. 메뉴안 옵션은<option>을 사용하여 표시\n",
    " <select> \n",
    "  <option>\n",
    "  커피\n",
    "  </option>\n",
    "  <option>\n",
    "  콜라\n",
    "  </option>\n",
    "</select>\n",
    "\n",
    "<option selected> 콜라 </option> 를 넣어주면 초기값 변경\n",
    "<select multiple>  넣으면 멀티 선택 가능\n",
    "\n",
    "# text box\n",
    "<textarea cols =\"30\" rows=\"10\"> </textarea>\n",
    "    => cols, rows 넣어주면 행,열 조절 가능 \n",
    "\n",
    "# progress \n",
    "    => 준비 로딩 상태 \n",
    "  <progress max=\"100\" value=\"80\"></progress>\n",
    "    => progress 안에 max 100% 중 value 80% 입력해주면 그대로 상태 변경 \n",
    "\n",
    "# 버튼 만들기 \n",
    "<button> 버튼 클릭 </button>"
   ]
  },
  {
   "cell_type": "markdown",
   "metadata": {},
   "source": [
    "# form 태그 \n",
    "    => 사용자가 입력한 데이터를 서버로 보내는 것을 목적으로 사용하는 태그 \n",
    "- 입력 양식이 아용된 페이지의 예 \n",
    "    - 로그인 페이지\n",
    "    - 회원가입 페이지\n",
    "    - 검색어 입력 페이지 \n",
    "- 사용할 속성 \n",
    "    - action : 입력값을 전송할 서버의 url\n",
    "    - method : 클라이언트가 입력한 데이터를 어떤식으로 전송할지 (GET or POST)\n",
    "\n",
    "# GET, POST 게념 \n",
    "    = GET : 요청의 개념 \n",
    "                =>  서버의 요청을 보내 응답 받을 때 (나 네이버 뉴스 페이지 줘!) \n",
    "    = POST : 보낸 정보를 어떻게 처리해줬으면 좋겠다 이야기 하는 개념 \n",
    "                => 서버에 요청을 보내 작업을 수행한다\n",
    "                            (아이디 별명 바꾸고 싶을때 보내면 서버에서 저장 후 수정됨 (서버정보조작))\n",
    "# !!!!!(중요) form = \"name\" \n",
    "    - form 입력 시 name 을 반드시 넣어서 각 역할 구분 폼 안에 들어있는 입력 요소들 구별해주는 식별자\n",
    "    - 추가 하건 안하건 화면은 안바뀌지만 추후 데이터 서버에 보낼 때 name 이 중요 \n",
    "    - 서버가 정보를 받으면 name 속성으로 항목 구별 (네임 없으면 서버에서 처리하는데 어려움 겪음)\n",
    "\n",
    "# **** 서버 = 정보를 제공하는 호스트 (host)\n",
    "    -> 내가 입력한 아이디 비번을 처리해줄 수 있는 프로그램, 그 프로그램이 설치되어있는 컴퓨터\n",
    "    -> 우리에게 필요한 정보들이 있다.\n",
    "\n",
    "# action =\"\" \n",
    "    => 내가 정보를 보낼 서버의 주소 \n",
    "\n",
    "# input type=\"submit\"\n",
    "    => 제출 이라는 뜻 form 에 있는 입력값을 보낸다는 뜻\n",
    " \n"
   ]
  },
  {
   "cell_type": "markdown",
   "metadata": {},
   "source": [
    "시맨틱 태그 = '의미론적인' 이라는 의미 \n",
    "<의미>콘텐츠</의미> \n",
    "    => 태그명은 '이 요소가 가진 목적이나 역할은 무엇인가?' 를 나타냄\n",
    "    => 검색 엔진에게 좋은 단서가 됨 (검색 더 잘 되도록)\n",
    "\n",
    "- 대부분 시맨틱 태그는 컨테이너 태그 (span. div)와 같이 특벽한 스타일을 제공하지 않음\n",
    "    - 코드의 가독성이 좋아지고 컨테이너의 남용을 방지할 수 있어 코드 쓰기가 편함 \n",
    "        -> 남용 : 웹 콘텐츠를 많이 채우다 보면 span, div 태그가 많아지는데 코드를 작성 시 불편하게 됨(헷갈리게)\n",
    "                    시멘틱 태그를 쓰면 더 편해짐\n",
    "\n",
    "# 대표적으로 사용하는 시맨틱 태그 \n",
    "    - article \n",
    "    - aside\n",
    "    - details\n",
    "    - figcaption\n",
    "    - figure\n",
    "    - footer\n",
    "    - header\n",
    "    - main\n",
    "    - nav\n",
    "    - section\n",
    "    - summary\n",
    "    - time"
   ]
  },
  {
   "cell_type": "markdown",
   "metadata": {},
   "source": [
    "# meta 태그 \n",
    "    - html 문서에 대한 메타데이터를 정의 즉, \"정보\" 를 의미\n",
    "        - meta 는 항상 head 태그 안에 들어감 \n",
    "        - 일반적으로 문자세트, 페이지설명,키워드,작성자 및 뷰포트 설정 지정하는데 사용\n",
    "        - 웹페이지에 대한 정보를 제공하므로 검색엔진이 페이지를 검색 시 참고할 수 있고 검색 결과 반영할 수 있다. \n",
    "\n",
    "meta 태그가 사용하는 메타데이터 유형 & 속성\n",
    "    - charset : 문자 세트\n",
    "                => 문자 인코딩 정보 기업 인코딩 : 영문,한글 사용하기 위해 utf-8 방식 사용\n",
    "                    <meta charset = \"utf-8\"> 인코딩 명확하게 기입 안하면 웹브라우저 설정 상황에 따라 자동으로 인코딩 추정해서 처리함 ( 즉, 문자가 깨질 가능성 생김)\n",
    "\n",
    "    - http-equiv : 콘텐츠 속성 정보에 대한 http헤더\n",
    "                => http : 인터넷에서 데이터를 주고 받을 시 사용하는 프로토콜(약속)\n",
    "                => http-equiv가http 관련 정보를 지정하면 content가 그에 대한 정보(값)을 지정함\n",
    "    \n",
    "    <meat http-equiv = \"x-ua-compatible\" content = \"IE-edge\">\n",
    "            => IE 브라f우저 최신 버전의 엔진을 사용한다는 의미\n",
    "\n",
    "    <meat http-equiv = \"refresh\" content=\"10\">\n",
    "            => 페이지를 10초마다 새로고침 한다는 의미 \n",
    "\n",
    "    - name : 문자 정보 \n",
    "    - content : 메타데이터내용 \n",
    "\n",
    "\n",
    "# meta name 속성 이름으로 content 속성을 값으로 하여 문서 정보를 이름+값 한쌍의 형태로 제공할 때 사용가능\n",
    "\n",
    "meat 태그가 가장 잘 사용되는 부분 < 검색 최적화에 도움이 되는 작업 >\n",
    "<meta name = \"author\" content =\"페이지 작성자\">\n",
    "<meta name = \"description\" content =\"페이지에 대한 요약 정보글\">\n",
    "<meta name = \"keywords\" content = \"공부, 코딩, IT, 학습\">\n"
   ]
  },
  {
   "cell_type": "code",
   "execution_count": null,
   "metadata": {
    "vscode": {
     "languageId": "html"
    }
   },
   "outputs": [],
   "source": [
    " 기본 세팅\n",
    "\n",
    "<!DOCTYPE html>\n",
    "<html lang=\"en\">\n",
    "<head>\n",
    "    <meta charset=\"UTF-8\"> \n",
    "    <meta\n",
    "    http-equiv=\"x-ua-compatible\"    마이크로소프트 계열에 대한 브라우저에 대한 호환성을 맞춘다\n",
    "    content=\"IE=10\">                호환성을 컨텐츠에 작성 (엣지버전을 기반으로 MS 웹브라우저가 동작하겠다)\n",
    "    <meta name=\"\" content=\"\">       어떤 정보를 추가할지 name / 그 정보에 내용 content\n",
    "    <title>문서 정보 관리</title>       \n",
    "</head>\n",
    "<body>\n",
    "    \n",
    "</body>\n",
    "</html>"
   ]
  },
  {
   "cell_type": "markdown",
   "metadata": {},
   "source": [
    "# CSS HTML 문서 연결 "
   ]
  },
  {
   "cell_type": "markdown",
   "metadata": {},
   "source": [
    "\n",
    "\n",
    "css, html 연결 시 <link> 태그 사용 \n",
    "<link>태그는 html 문서의 <head></head>내부에 사용해야함\n",
    "\n",
    "<link href=\"./style.css\" rel=\"stylesheet\">\n",
    "    - href : 연결하고자 하는 외부 소스의 url을 기술하는 속성\n",
    "    - rel : 현재 문서(html)와 외부 소스의 연관 관계를 기술하는 속성 \n"
   ]
  },
  {
   "cell_type": "markdown",
   "metadata": {},
   "source": [
    "# 박스모델 구성하는 속성"
   ]
  },
  {
   "cell_type": "markdown",
   "metadata": {},
   "source": [
    "박스 모델 영역\n",
    "\n",
    "# width - 영역 : 너비 \n",
    "# height - 영역 : 높이\n",
    "# padding - 안쪽 여백 : 테두리 안에서 콘텐츠 주변 감싸는 여백 \n",
    "# border - 경계선(테투리) : 콘텐츠와 안쪽 여백을 둘러싸는 테두리\n",
    "    border 테투리의 두께, 모양, 색상 등 한번에 지정\n",
    "    boder-width 테투리 두께를 지정 \n",
    "    border-style 점선, 실선, 겹선 등으로 테투리 모양 지정 \n",
    "        groove 실선 \n",
    "    boder-color 테투리 색상 지정 \n",
    "    boder-radius 모서리 둥글게 만들기 둥근모서리 \n",
    "margin - 바깥쪽 여백 : 요소를 감싸는 여백\n",
    "\n",
    "사이즈 못움직이게 막기 \n",
    "    resize: none;\n",
    "\n",
    "##       line-height: 30px; 남는공간 만들기 \n",
    "##       border: none;\n",
    "            ##  항상 같이 넣어줘야 테투리 없음 \n",
    "\n",
    "\n",
    "# 투명하게 만들기 \n",
    "    transparent\n",
    "\n",
    "# 감추는 상태 \n",
    "    display: none;\n",
    "# 보이는 상태\n",
    "    display : block;\n",
    "    @media screen and (max-width:1192px){\n",
    "    .header-content__input .search{\n",
    "        display: none;\n",
    "    }\n",
    "    .header-content__input .glass{\n",
    "        display: block;\n",
    "    }\n",
    "}"
   ]
  },
  {
   "cell_type": "markdown",
   "metadata": {},
   "source": [
    "글꼴 바꾸기 \n",
    "\n",
    "# font-family\n",
    "p { font-family : Arial, Helvetica, sans-serif;}\n",
    "                -> Arial 이 지원되질 않는 환경에서 그 뒤 글꼴 적용 (순서대로)\n",
    "font-family 속성에는 한 개 이상의 글꼴을 지정할 수 있다. \n",
    "입력한 글꼴 뒤에 쉼표를 입력한 후 새로운 글꼴을 이어서 입력하는 방식으로 속성값을 지정하는데 \n",
    "이 경우 가장 먼저 쓰여진 글꼴부터 우선적으로 요소에 적용됨 \n",
    "\n",
    "mac 에서 지원하는 글꼴 -> monospace \n",
    "<style> \n",
    "*{ font-family:monospace; } \n",
    "</style>\n",
    "#first{font-size} 지정 가능 \n",
    "\n",
    "\n",
    "# font-size: 5em;\n",
    "자기를 품고 있는 부모 태그 폰트 사이즈에 곱한다(배수한다) -> body\n",
    "\n",
    "# font-size: 5rem;\n",
    "lot 요소 크기에 배수한다 -> html태그 \n",
    "\n",
    "html{font-size:8px;}\n",
    "body{font-size:32px;}\n",
    "firsh{font-size:3rem;}\n",
    "-> html 요소 크기 (8) firsh 요소 크기(3) (*값) = 24px; 로 유지됨\n",
    "\n",
    "# font-weight : 100; (두께 지정) \n",
    "100부터 900사이에서 100단위로 숫자 지정 \n",
    "100이 가장 얇은 것 900이 가장 두꺼운 것 \n",
    "\n",
    "# line-height : 50px; \n",
    "    줄 간격 조절\n",
    "\n",
    "# text-align : left or rigth; or center or justify; (양끝으로 붙는다 양끝정렬)\n",
    "    위치 조절 "
   ]
  },
  {
   "cell_type": "markdown",
   "metadata": {},
   "source": [
    "# CSS 요소 다루기 "
   ]
  },
  {
   "cell_type": "markdown",
   "metadata": {},
   "source": [
    "# float (흐름과 무관하게 배치 -> 띄운다)\n",
    "    요소를 문서의 흐름에서 제외시킨 채 부모 요소 또는 루트 요소를 기준으로 위치를 변경\n",
    "    사용 가능한 속성값으로는 왼쪽 left, 오른쪽 right 그리고 float 적용하지 않는 none 있음\n",
    "\n",
    "\n",
    "# clear (균열이 생기는 것 제거)\n",
    "    float 에 대응속성\n",
    "        - left 오른쪽에 있는 float 을 무시하겠다.\n",
    "        - right 왼쪽에 있는 float 을 무시하겠다.\n",
    "        - both 양쪽 다 무시하겠다."
   ]
  },
  {
   "cell_type": "markdown",
   "metadata": {},
   "source": [
    "# z-index"
   ]
  },
  {
   "cell_type": "markdown",
   "metadata": {},
   "source": [
    "# z-index  \n",
    "    동일한 위치에 요소들이 배치되면 요소들은 z 축에 쌓이게 된다\n",
    "    z-index 기본값은 auto며, 정수 값으로 각 요소의 쌓임 순서를 결정함\n",
    "        - .first {z-index: 4;}\n",
    "        - .second {z-index: 3:} ~~ 쭉 1번까지\n",
    "\n",
    "\n",
    "body 에 div class를 지정해준 후 head 에 순서를 정하면 됨. \n",
    "div1, div2 순서대로 배치됨 -> 반대로 div2, div1 배치  \n",
    "<head>\n",
    "    .div1{background-color: orange; z-index:3; overflow: hidden;}\n",
    "    .div2{background-color: red; z-index:2}\n",
    "</head>\n",
    "\n",
    "<body>\n",
    "    <div class=\"div1\"> orange 1 </div>\n",
    "    <div class=\"div2\">2</div>\n",
    "</body>"
   ]
  },
  {
   "cell_type": "markdown",
   "metadata": {},
   "source": [
    "# overflow 처리 유형\n",
    "    - visible 기본값으로, 영역을 벗어난 콘텐츠 그대로 보여줌\n",
    "    - hidden 영역을 벗어난 콘텐츠를 잘라내어 보이지 않게 함 (영역안에 머물기)\n",
    "    - scroll 영역을 벗어난 콘텐츠를 잘라내어 보이지 않게 하고 잘려진 콘텐츠 진행 방향으로 스크롤 만듬 \n",
    "    - auto 웹 브라우저의 설정 값을 따름 데스크톱 브라우저에는 주로 scroll로 처리함 "
   ]
  },
  {
   "cell_type": "markdown",
   "metadata": {},
   "source": [
    "# 의사요소 (가상클래스)"
   ]
  },
  {
   "cell_type": "markdown",
   "metadata": {},
   "source": [
    "# 의사클래스(가상클래스) \n",
    "# hover -> 마우스 커서가 올라가 있을 때 \n",
    "# active -> 마우스로 꾹 누르고 있을 때 \n",
    "# \n",
    "    선택자에 추가하는 키워드로, 요소가 어떤 특정한 상태가 되었을 때 요소를 선택하겠다는 의미\n",
    "    선택자: 의사클래서 {속성명: 속성값;}\n",
    "    \n",
    "    \n",
    "    h1:hover{color:red;}\n",
    "    => h1 요소에 마우스 커서가 올라오면 (hover)글자를 빨간색으로 하겠다\n",
    "\n",
    "    의사요소는 선택자에 추가하는 키워드로, 이를 이용하면 서택한 요소의 특정 부분에 대한 스타일 정의\n",
    "    li::first-letter{font-size:20px;}\n",
    "    => li 요소의 첫번째 글자만 크기를 20px 로 하겠다 (기본값은16px)"
   ]
  },
  {
   "cell_type": "markdown",
   "metadata": {},
   "source": [
    "변형과 transform 속성 요소의 크기나 위치를 변경 \n",
    "\n",
    "- translate(x,y) 지정한 크기만큼 축 방향으로 이동 \n",
    "- scale(x,y) 지정한 크기만큼 축으로 확대 및 축소 \n",
    "- skew(x,y) 지정한 각도만큼 축으로 비틀어 왜곡 \n",
    "- rotate(deg) 지정한 각도만큼 회전\n",
    "\n",
    "# transition 하위 속성들\n",
    "\n",
    "3s 초 주기 \n",
    "- property 변화 대상 속성을 지정\n",
    "- duration 변화가 실행될 시간 지정 \n",
    "        => 정방향 / reverse 역방향\n",
    "        => 정방향, 역방향 반복 = alternate;\n",
    "        *** animation-direction: alternate;\n",
    "- delay 변화 시작 전 지연 시간 지정\n",
    "- timing-function 변화 실행 시 실행 곡선 방식을 지정\n",
    "        => animation-iteration-count:100;\n",
    "            => 몇 회 진행할건지\n",
    "                => infinite; 무한 반복! \n",
    "\n",
    "- ease 기본값으로 점점 속도가 빨라지다가 끝날 때 다시 느려지는 방식 \n",
    "- linear 처음부터 끝까지 같은 속도 진행\n",
    "- ease-in 느리게 시작했다가 점점 빨라짐\n",
    "- ease-out 빠르게 시작했다가 점점 느려짐 "
   ]
  },
  {
   "cell_type": "markdown",
   "metadata": {},
   "source": [
    "# 상속"
   ]
  },
  {
   "cell_type": "markdown",
   "metadata": {},
   "source": [
    "하위 요소가 상위 요소의 스타일 속성값 물려받는 것 (다 가능한 것은 아니다.)\n",
    "\n",
    "ul { color:tomato;}\n",
    "    => li요소를 선택하지 않았는데 ul색이 변경됨"
   ]
  },
  {
   "cell_type": "markdown",
   "metadata": {},
   "source": [
    "# 뷰포트"
   ]
  },
  {
   "cell_type": "markdown",
   "metadata": {},
   "source": [
    "현재 화면에 보여지고 있는 영역을 의미\n",
    "    -> 기기 별로 뷰포트가 다르기 때문에 동일한 웹 페이지라도 기기에 따른 배율 조정이 발생해 화면의 크기가 다르게 보임 \n",
    "\n",
    "# 뷰포트 설정하기 \n",
    "    기기에 따라 알아서 배율을 맞추는 설정\n",
    "<meta \n",
    "name = \"viewport\"\n",
    "content = \"widht=device-width, initial-scale=1.0\"\n",
    ">\n",
    "\n"
   ]
  },
  {
   "cell_type": "markdown",
   "metadata": {},
   "source": [
    "# 대표적인 CSS 레이아웃 "
   ]
  },
  {
   "cell_type": "markdown",
   "metadata": {},
   "source": [
    "# 플렉스 박스 \n",
    "            => 중요한 개념 : 플렉스 방식은 두 개 축을 기반으로 동작함 \n",
    "                            그 중 하나의 축을 주축삼아 요소 배치함 \n",
    "                                주축의 기본값은 가로방향이다 (왼쪽에서 오른쪽) ----->>>> \n",
    "    -> display:flex (블록레발요소) 스타일 선언에 지정하면 플렉스 컨테이너가 됨\n",
    "    -> display:inlin-flex; (인라인요소) 인라인으로 지정하고 싶으면  \n",
    "        -> 행 또는 열을 주축으로 설정해 웹 요소를 배치, 정렬하는 1차원 레이아웃 방식\n",
    "        -> 플렉스 컨테이너 : 플렉스 박스 방식으로 레이아웃을 결정할 요소\n",
    "        -> 플렉스 아이템 : 플렉스 컨테이너 내부에서 플렉스 박스 방식으로 배치되는 요소 <다른 플렉스 아이템보다 좀 더 커질 수 있게>\n",
    "- 그리드 레이아웃 \n",
    "- float 속성\n",
    "- position 속성\n",
    "- 일반적인 문서 흐름\n",
    "- display 속성\n",
    "- 기타 등 "
   ]
  },
  {
   "cell_type": "code",
   "execution_count": null,
   "metadata": {
    "vscode": {
     "languageId": "html"
    }
   },
   "outputs": [],
   "source": []
  }
 ],
 "metadata": {
  "kernelspec": {
   "display_name": "Python 3",
   "language": "python",
   "name": "python3"
  },
  "language_info": {
   "codemirror_mode": {
    "name": "ipython",
    "version": 3
   },
   "file_extension": ".py",
   "mimetype": "text/x-python",
   "name": "python",
   "nbconvert_exporter": "python",
   "pygments_lexer": "ipython3",
   "version": "3.9.6"
  }
 },
 "nbformat": 4,
 "nbformat_minor": 2
}
