{
 "cells": [
  {
   "cell_type": "markdown",
   "metadata": {},
   "source": [
    "공부할 것 \n",
    "\n",
    "# list -> 리스트 패킹, 리스트 언패킹 \n",
    "\n",
    "짝수 = list(range(2,12,2)) -> range 공부하기 \n",
    "print(짝수)\n",
    "\n",
    "\n",
    "# len()함수를 이용해 인덱스 마지막 값을 출력 -> len 공부\n",
    "print(짝수[len(짝수)-1])\n",
    "\n",
    "# 2차원 리스트에 대하여 공부 필수 \n",
    "\n",
    "# 최대 최소값\n",
    "https://coding-factory.tistory.com/971\n",
    "\n",
    "# 딕셔너리  https://www.infoking.site/70\n",
    "\n",
    "# join 함수 공부\n",
    "\n",
    "# 백엔드 자료구조 공부 / 파이썬 모두의 공부\n",
    "=> 해시, 해시맵, 해시테이블 꼭 알아보기 키, 벨류 연관됨 \n",
    "\n",
    "# 튜플 따로 공부 + 동적배열 / 가변객체와 불변객체 ****\n",
    "\n",
    "# 파이썬 클린코드\n",
    "\n",
    "# print (f '' )공부하기\n",
    "\n",
    "# zip() : 병렬처리를 도와주는 함수 *****리스트형태로 {키 : 값} 을 매칭을 해주는 것 index 기준으로 \n",
    "# 주의 : 배열의 개수를 맞춰야함 (중요)\n",
    "\n",
    "# result = sum(ozkim.values())/len(ozkim) 평균값구하는거 공부하기 ㅠㅠ \n",
    "\n",
    "SQLD 자격증 \n",
    "\n",
    "# 함수 - 지역변수 전역변수"
   ]
  },
  {
   "cell_type": "markdown",
   "metadata": {},
   "source": [
    "얕은복사와 깊은복사: https://ctkim.tistory.com/entry/Python-DeepCopy-Shallowcopy\n",
    "global, nonlocal :  https://www.daleseo.com/python-global-nonlocal/\n",
    "전체적인 복습: https://ctkim.tistory.com/entry/파이썬-강좌-목차\n",
    "클래스와 객체: https://rebro.kr/133\n",
    "이터레이터란!: https://tibetsandfox.tistory.com/27\n",
    "제너레이터!?: https://tibetsandfox.tistory.com/28\n",
    "스페셜 method(매직 method): https://velog.io/@khs0415p/python-special-method\n",
    "\n",
    "html -> https://wikidocs.net/160445 "
   ]
  }
 ],
 "metadata": {
  "language_info": {
   "name": "python"
  }
 },
 "nbformat": 4,
 "nbformat_minor": 2
}
